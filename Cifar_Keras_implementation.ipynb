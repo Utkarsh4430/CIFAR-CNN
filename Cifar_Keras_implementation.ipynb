{
  "nbformat": 4,
  "nbformat_minor": 0,
  "metadata": {
    "colab": {
      "name": "Cifar_Keras_implementation.ipynb",
      "version": "0.3.2",
      "provenance": [],
      "collapsed_sections": []
    },
    "kernelspec": {
      "name": "python3",
      "display_name": "Python 3"
    },
    "accelerator": "GPU"
  },
  "cells": [
    {
      "metadata": {
        "id": "HU1hLQGyd2bw",
        "colab_type": "code",
        "outputId": "342bcab2-c3c8-44fd-d846-655d12c03029",
        "colab": {
          "base_uri": "https://localhost:8080/",
          "height": 34
        }
      },
      "cell_type": "code",
      "source": [
        "import urllib.request\n",
        "urllib.request.urlretrieve (\"https://www.cs.toronto.edu/~kriz/cifar-10-python.tar.gz\", \"a.tar.gz\")\n"
      ],
      "execution_count": 43,
      "outputs": [
        {
          "output_type": "execute_result",
          "data": {
            "text/plain": [
              "('a.tar.gz', <http.client.HTTPMessage at 0x7f7848b97e10>)"
            ]
          },
          "metadata": {
            "tags": []
          },
          "execution_count": 43
        }
      ]
    },
    {
      "metadata": {
        "id": "2kKe9IO2d7EE",
        "colab_type": "code",
        "colab": {}
      },
      "cell_type": "code",
      "source": [
        "import tarfile\n",
        "tar = tarfile.open(\"a.tar.gz\")\n",
        "tar.extractall()\n",
        "tar.close()"
      ],
      "execution_count": 0,
      "outputs": []
    },
    {
      "metadata": {
        "id": "29p8lwPZy_bn",
        "colab_type": "code",
        "outputId": "56dcf545-ff56-4a6a-ead2-cc78039f6111",
        "colab": {
          "base_uri": "https://localhost:8080/",
          "height": 84
        }
      },
      "cell_type": "code",
      "source": [
        "import numpy as np\n",
        "import matplotlib.pyplot as plt\n",
        "import pickle\n",
        "\n",
        "\n",
        "def unpickle(file):\n",
        " '''Load byte data from file'''\n",
        " with open(file, 'rb') as f:\n",
        "  data = pickle.load(f, encoding='latin-1')\n",
        "  return data\n",
        "\n",
        "\n",
        "def load_cifar10_data(data_dir):\n",
        " '''Return train_data, train_labels, test_data, test_labels\n",
        " The shape of data is 32 x 32 x3'''\n",
        " train_data = None\n",
        " train_labels = []\n",
        "\n",
        " for i in range(1, 6):\n",
        "  data_dic = unpickle(data_dir + \"/data_batch_{}\".format(i))\n",
        "  if i == 1:\n",
        "   train_data = data_dic['data']\n",
        "  else:\n",
        "   train_data = np.vstack((train_data, data_dic['data']))\n",
        "  train_labels += data_dic['labels']\n",
        "\n",
        " test_data_dic = unpickle(data_dir + \"/test_batch\")\n",
        " test_data = test_data_dic['data']\n",
        " test_labels = test_data_dic['labels']\n",
        "\n",
        " train_data = train_data.reshape((len(train_data), 3, 32, 32))\n",
        " train_data = np.rollaxis(train_data, 1, 4)\n",
        " train_labels = np.array(train_labels)\n",
        "\n",
        " test_data = test_data.reshape((len(test_data), 3, 32, 32))\n",
        " test_data = np.rollaxis(test_data, 1, 4)\n",
        " test_labels = np.array(test_labels)\n",
        "\n",
        " return train_data, train_labels, test_data, test_labels\n",
        "\n",
        "data_dir = 'cifar-10-batches-py'\n",
        "\n",
        "train_data, train_labels, test_data, test_labels = load_cifar10_data(data_dir)\n",
        "\n",
        "print(train_data.shape)\n",
        "print(train_labels.shape)\n",
        "\n",
        "print(test_data.shape)\n",
        "print(test_labels.shape)\n"
      ],
      "execution_count": 45,
      "outputs": [
        {
          "output_type": "stream",
          "text": [
            "(50000, 32, 32, 3)\n",
            "(50000,)\n",
            "(10000, 32, 32, 3)\n",
            "(10000,)\n"
          ],
          "name": "stdout"
        }
      ]
    },
    {
      "metadata": {
        "id": "egoHepuBduWR",
        "colab_type": "code",
        "colab": {}
      },
      "cell_type": "code",
      "source": [
        "#importing required libraries\n",
        "\n",
        "#image precessing\n",
        "import cv2\n",
        "#file handling\n",
        "import os\n",
        "#obvious\n",
        "import numpy as np\n",
        "import pandas as pd\n",
        "#library to know the progress of or loops\n",
        "from tqdm import tqdm"
      ],
      "execution_count": 0,
      "outputs": []
    },
    {
      "metadata": {
        "id": "0Um5en6M_xh4",
        "colab_type": "code",
        "outputId": "f828e308-902e-4ce5-e887-2f6058fe3881",
        "colab": {
          "base_uri": "https://localhost:8080/",
          "height": 34
        }
      },
      "cell_type": "code",
      "source": [
        "name,count = np.unique(test_labels,return_counts=True)\n",
        "print(count)"
      ],
      "execution_count": 47,
      "outputs": [
        {
          "output_type": "stream",
          "text": [
            "[1000 1000 1000 1000 1000 1000 1000 1000 1000 1000]\n"
          ],
          "name": "stdout"
        }
      ]
    },
    {
      "metadata": {
        "id": "HBUeGQT836Q5",
        "colab_type": "code",
        "colab": {}
      },
      "cell_type": "code",
      "source": [
        "x_train = train_data\n",
        "x_test = test_data"
      ],
      "execution_count": 0,
      "outputs": []
    },
    {
      "metadata": {
        "id": "QJ3E-P894RS6",
        "colab_type": "code",
        "outputId": "093ad683-7b1b-41e6-f4fe-333b2d630567",
        "colab": {
          "base_uri": "https://localhost:8080/",
          "height": 34
        }
      },
      "cell_type": "code",
      "source": [
        "train_labels\n"
      ],
      "execution_count": 49,
      "outputs": [
        {
          "output_type": "execute_result",
          "data": {
            "text/plain": [
              "array([6, 9, 9, ..., 9, 1, 1])"
            ]
          },
          "metadata": {
            "tags": []
          },
          "execution_count": 49
        }
      ]
    },
    {
      "metadata": {
        "id": "xwkQp4bcFjH2",
        "colab_type": "code",
        "colab": {}
      },
      "cell_type": "code",
      "source": [
        "# #creating y\n",
        "# def func(a):\n",
        "#   y = []\n",
        "#   for name in a:\n",
        "#     if name == 0:\n",
        "#       y.append((1,0,0,0,0,0,0,0,0,0))\n",
        "#     elif name == 1:\n",
        "#       y.append((0,1,0,0,0,0,0,0,0,0))\n",
        "#     elif name == 2:\n",
        "#       y.append((0,0,1,0,0,0,0,0,0,0))\n",
        "#     elif name == 3:\n",
        "#       y.append((0,0,0,1,0,0,0,0,0,0))\n",
        "#     elif name == 4:\n",
        "#       y.append((0,0,0,0,1,0,0,0,0,0))\n",
        "#     elif name == 5:\n",
        "#       y.append((0,0,0,0,0,1,0,0,0,0))\n",
        "#     elif name == 6:\n",
        "#       y.append((0,0,0,0,0,0,1,0,0,0))\n",
        "#     elif name == 7:\n",
        "#       y.append((0,0,0,0,0,0,0,1,0,0))\n",
        "#     elif name == 8:\n",
        "#       y.append((0,0,0,0,0,0,0,0,1,0))\n",
        "#     elif name == 9:\n",
        "#       y.append((0,0,0,0,0,0,0,0,0,1))\n",
        "#   return np.array(y)\n"
      ],
      "execution_count": 0,
      "outputs": []
    },
    {
      "metadata": {
        "id": "OlRtpzYdDuJP",
        "colab_type": "code",
        "colab": {
          "base_uri": "https://localhost:8080/",
          "height": 34
        },
        "outputId": "2c90ce9a-60ef-4873-f25b-d6938a2d3787"
      },
      "cell_type": "code",
      "source": [
        "from sklearn.preprocessing import LabelBinarizer\n",
        "encoder = LabelBinarizer()\n",
        "y_train = encoder.fit_transform(train_labels)\n",
        "y_test = encoder.transform(test_labels)\n",
        "encoder.classes_"
      ],
      "execution_count": 50,
      "outputs": [
        {
          "output_type": "execute_result",
          "data": {
            "text/plain": [
              "array([0, 1, 2, 3, 4, 5, 6, 7, 8, 9])"
            ]
          },
          "metadata": {
            "tags": []
          },
          "execution_count": 50
        }
      ]
    },
    {
      "metadata": {
        "id": "hStf9bwA6A5B",
        "colab_type": "code",
        "colab": {}
      },
      "cell_type": "code",
      "source": [
        "# y_train = func(train_labels)\n",
        "# y_test = test_labels"
      ],
      "execution_count": 0,
      "outputs": []
    },
    {
      "metadata": {
        "id": "OQ73C-R_d-Zb",
        "colab_type": "code",
        "colab": {}
      },
      "cell_type": "code",
      "source": [
        "x_train = x_train / 255\n",
        "x_test = x_test / 255"
      ],
      "execution_count": 0,
      "outputs": []
    },
    {
      "metadata": {
        "id": "ruPhsIPfEhwC",
        "colab_type": "code",
        "colab": {
          "base_uri": "https://localhost:8080/",
          "height": 364
        },
        "outputId": "47e8d202-da6f-4b66-fe7a-5d77ca0c6e00"
      },
      "cell_type": "code",
      "source": [
        "from matplotlib import pyplot as plt\n",
        "plt.imshow(x_train[0])"
      ],
      "execution_count": 53,
      "outputs": [
        {
          "output_type": "execute_result",
          "data": {
            "text/plain": [
              "<matplotlib.image.AxesImage at 0x7f7842e70518>"
            ]
          },
          "metadata": {
            "tags": []
          },
          "execution_count": 53
        },
        {
          "output_type": "display_data",
          "data": {
            "image/png": "[encoded data removed]",
            "text/plain": [
              "<matplotlib.figure.Figure at 0x7f7848b97cf8>"
            ]
          },
          "metadata": {
            "tags": []
          }
        }
      ]
    },
    {
      "metadata": {
        "id": "NY4bLHFiE6IW",
        "colab_type": "code",
        "colab": {
          "base_uri": "https://localhost:8080/",
          "height": 34
        },
        "outputId": "1830320e-3593-4fd3-bfc6-ed7195898fd1"
      },
      "cell_type": "code",
      "source": [
        "x_test.shape"
      ],
      "execution_count": 54,
      "outputs": [
        {
          "output_type": "execute_result",
          "data": {
            "text/plain": [
              "(10000, 32, 32, 3)"
            ]
          },
          "metadata": {
            "tags": []
          },
          "execution_count": 54
        }
      ]
    },
    {
      "metadata": {
        "id": "TZO79KZYFFl1",
        "colab_type": "code",
        "colab": {}
      },
      "cell_type": "code",
      "source": [
        "#importing keras and required layers\n",
        "from keras.models import Sequential\n",
        "from keras.layers import Dense, Conv2D, MaxPooling2D, Dropout, Flatten"
      ],
      "execution_count": 0,
      "outputs": []
    },
    {
      "metadata": {
        "id": "XsF4LC6YFGgA",
        "colab_type": "code",
        "colab": {}
      },
      "cell_type": "code",
      "source": [
        "#binary classification model(cats and dogs)\n",
        "nClasses = 10"
      ],
      "execution_count": 0,
      "outputs": []
    },
    {
      "metadata": {
        "id": "xiz6Wy8MFJ0Y",
        "colab_type": "code",
        "colab": {}
      },
      "cell_type": "code",
      "source": [
        "#constructing the model\n",
        "model = Sequential()\n",
        "model.add(Conv2D(32, (3, 3), padding='same', activation='relu', input_shape=(32,32,3)))\n",
        "model.add(Conv2D(32, (3, 3), activation='relu',padding='same'))\n",
        "model.add(MaxPooling2D(pool_size=(2, 2)))\n",
        "model.add(Dropout(0.2))\n",
        " \n",
        "model.add(Conv2D(64, (3, 3), padding='same', activation='relu'))\n",
        "model.add(Conv2D(64, (3, 3), activation='relu',padding='same'))\n",
        "model.add(MaxPooling2D(pool_size=(2, 2)))\n",
        "model.add(Dropout(0.2))\n",
        " \n",
        "model.add(Conv2D(64, (3, 3), padding='same', activation='relu'))\n",
        "model.add(Conv2D(64, (3, 3), activation='relu',padding='same'))\n",
        "model.add(MaxPooling2D(pool_size=(2, 2)))\n",
        "model.add(Dropout(0.2))\n",
        " \n",
        "model.add(Flatten())\n",
        "model.add(Dense(512, activation='relu'))\n",
        "model.add(Dropout(0.2))\n",
        "model.add(Dense(nClasses, activation='softmax'))"
      ],
      "execution_count": 0,
      "outputs": []
    },
    {
      "metadata": {
        "id": "zqT1gQvuFLZ9",
        "colab_type": "code",
        "colab": {
          "base_uri": "https://localhost:8080/",
          "height": 689
        },
        "outputId": "e452f26b-e93c-4a12-b026-1690cb47e352"
      },
      "cell_type": "code",
      "source": [
        "model.compile(optimizer='Adam', loss='categorical_crossentropy', metrics=['accuracy'])\n",
        "print(model.summary())"
      ],
      "execution_count": 58,
      "outputs": [
        {
          "output_type": "stream",
          "text": [
            "_________________________________________________________________\n",
            "Layer (type)                 Output Shape              Param #   \n",
            "=================================================================\n",
            "conv2d_13 (Conv2D)           (None, 32, 32, 32)        896       \n",
            "_________________________________________________________________\n",
            "conv2d_14 (Conv2D)           (None, 32, 32, 32)        9248      \n",
            "_________________________________________________________________\n",
            "max_pooling2d_7 (MaxPooling2 (None, 16, 16, 32)        0         \n",
            "_________________________________________________________________\n",
            "dropout_9 (Dropout)          (None, 16, 16, 32)        0         \n",
            "_________________________________________________________________\n",
            "conv2d_15 (Conv2D)           (None, 16, 16, 64)        18496     \n",
            "_________________________________________________________________\n",
            "conv2d_16 (Conv2D)           (None, 16, 16, 64)        36928     \n",
            "_________________________________________________________________\n",
            "max_pooling2d_8 (MaxPooling2 (None, 8, 8, 64)          0         \n",
            "_________________________________________________________________\n",
            "dropout_10 (Dropout)         (None, 8, 8, 64)          0         \n",
            "_________________________________________________________________\n",
            "conv2d_17 (Conv2D)           (None, 8, 8, 64)          36928     \n",
            "_________________________________________________________________\n",
            "conv2d_18 (Conv2D)           (None, 8, 8, 64)          36928     \n",
            "_________________________________________________________________\n",
            "max_pooling2d_9 (MaxPooling2 (None, 4, 4, 64)          0         \n",
            "_________________________________________________________________\n",
            "dropout_11 (Dropout)         (None, 4, 4, 64)          0         \n",
            "_________________________________________________________________\n",
            "flatten_3 (Flatten)          (None, 1024)              0         \n",
            "_________________________________________________________________\n",
            "dense_5 (Dense)              (None, 512)               524800    \n",
            "_________________________________________________________________\n",
            "dropout_12 (Dropout)         (None, 512)               0         \n",
            "_________________________________________________________________\n",
            "dense_6 (Dense)              (None, 10)                5130      \n",
            "=================================================================\n",
            "Total params: 669,354\n",
            "Trainable params: 669,354\n",
            "Non-trainable params: 0\n",
            "_________________________________________________________________\n",
            "None\n"
          ],
          "name": "stdout"
        }
      ]
    },
    {
      "metadata": {
        "id": "NEq_fLQQFNJy",
        "colab_type": "code",
        "colab": {
          "base_uri": "https://localhost:8080/",
          "height": 1714
        },
        "outputId": "0c1fccbc-4595-49aa-fbe2-b1aac1dc0185"
      },
      "cell_type": "code",
      "source": [
        "model.fit(x_train,y_train,epochs =50,batch_size = 100)"
      ],
      "execution_count": 64,
      "outputs": [
        {
          "output_type": "stream",
          "text": [
            "Epoch 1/50\n",
            "50000/50000 [==============================] - 21s 418us/step - loss: 0.2105 - acc: 0.9264\n",
            "Epoch 2/50\n",
            "50000/50000 [==============================] - 21s 410us/step - loss: 0.2148 - acc: 0.9259\n",
            "Epoch 3/50\n",
            "50000/50000 [==============================] - 20s 392us/step - loss: 0.2151 - acc: 0.9238\n",
            "Epoch 4/50\n",
            "50000/50000 [==============================] - 19s 387us/step - loss: 0.2086 - acc: 0.9295\n",
            "Epoch 5/50\n",
            "50000/50000 [==============================] - 20s 398us/step - loss: 0.2081 - acc: 0.9290\n",
            "Epoch 6/50\n",
            "50000/50000 [==============================] - 18s 365us/step - loss: 0.2045 - acc: 0.9304\n",
            "Epoch 7/50\n",
            "50000/50000 [==============================] - 18s 354us/step - loss: 0.2030 - acc: 0.9290\n",
            "Epoch 8/50\n",
            "50000/50000 [==============================] - 18s 351us/step - loss: 0.2044 - acc: 0.9290\n",
            "Epoch 9/50\n",
            "50000/50000 [==============================] - 17s 340us/step - loss: 0.2053 - acc: 0.9299\n",
            "Epoch 10/50\n",
            "50000/50000 [==============================] - 16s 326us/step - loss: 0.1999 - acc: 0.9309\n",
            "Epoch 11/50\n",
            "50000/50000 [==============================] - 16s 329us/step - loss: 0.1978 - acc: 0.9321\n",
            "Epoch 12/50\n",
            "50000/50000 [==============================] - 16s 326us/step - loss: 0.2050 - acc: 0.9291\n",
            "Epoch 13/50\n",
            "50000/50000 [==============================] - 16s 328us/step - loss: 0.1970 - acc: 0.9325\n",
            "Epoch 14/50\n",
            "50000/50000 [==============================] - 16s 329us/step - loss: 0.1961 - acc: 0.9344\n",
            "Epoch 15/50\n",
            "50000/50000 [==============================] - 16s 326us/step - loss: 0.1968 - acc: 0.9325\n",
            "Epoch 16/50\n",
            "50000/50000 [==============================] - 16s 325us/step - loss: 0.1970 - acc: 0.9313\n",
            "Epoch 17/50\n",
            "50000/50000 [==============================] - 16s 324us/step - loss: 0.1946 - acc: 0.9336\n",
            "Epoch 18/50\n",
            "50000/50000 [==============================] - 16s 326us/step - loss: 0.1907 - acc: 0.9347\n",
            "Epoch 19/50\n",
            "50000/50000 [==============================] - 16s 323us/step - loss: 0.1845 - acc: 0.9367\n",
            "Epoch 20/50\n",
            "50000/50000 [==============================] - 16s 319us/step - loss: 0.1898 - acc: 0.9343\n",
            "Epoch 21/50\n",
            "50000/50000 [==============================] - 16s 315us/step - loss: 0.1843 - acc: 0.9364\n",
            "Epoch 22/50\n",
            "50000/50000 [==============================] - 16s 315us/step - loss: 0.1934 - acc: 0.9341\n",
            "Epoch 23/50\n",
            "50000/50000 [==============================] - 16s 315us/step - loss: 0.1891 - acc: 0.9349\n",
            "Epoch 24/50\n",
            "50000/50000 [==============================] - 16s 319us/step - loss: 0.1936 - acc: 0.9333\n",
            "Epoch 25/50\n",
            "50000/50000 [==============================] - 16s 321us/step - loss: 0.1885 - acc: 0.9350\n",
            "Epoch 26/50\n",
            "50000/50000 [==============================] - 16s 324us/step - loss: 0.1848 - acc: 0.9365\n",
            "Epoch 27/50\n",
            "50000/50000 [==============================] - 16s 319us/step - loss: 0.1865 - acc: 0.9362\n",
            "Epoch 28/50\n",
            "50000/50000 [==============================] - 16s 319us/step - loss: 0.1838 - acc: 0.9374\n",
            "Epoch 29/50\n",
            "50000/50000 [==============================] - 16s 316us/step - loss: 0.1812 - acc: 0.9377\n",
            "Epoch 30/50\n",
            "50000/50000 [==============================] - 16s 316us/step - loss: 0.1872 - acc: 0.9364\n",
            "Epoch 31/50\n",
            "50000/50000 [==============================] - 16s 316us/step - loss: 0.1721 - acc: 0.9421\n",
            "Epoch 32/50\n",
            "50000/50000 [==============================] - 16s 327us/step - loss: 0.1796 - acc: 0.9397\n",
            "Epoch 33/50\n",
            "50000/50000 [==============================] - 17s 333us/step - loss: 0.1919 - acc: 0.9356\n",
            "Epoch 34/50\n",
            "50000/50000 [==============================] - 16s 327us/step - loss: 0.1822 - acc: 0.9382\n",
            "Epoch 35/50\n",
            "50000/50000 [==============================] - 16s 319us/step - loss: 0.1766 - acc: 0.9400\n",
            "Epoch 36/50\n",
            "50000/50000 [==============================] - 16s 325us/step - loss: 0.1765 - acc: 0.9388\n",
            "Epoch 37/50\n",
            "50000/50000 [==============================] - 16s 325us/step - loss: 0.1805 - acc: 0.9390\n",
            "Epoch 38/50\n",
            "50000/50000 [==============================] - 16s 318us/step - loss: 0.1717 - acc: 0.9412\n",
            "Epoch 39/50\n",
            "50000/50000 [==============================] - 16s 322us/step - loss: 0.1737 - acc: 0.9417\n",
            "Epoch 40/50\n",
            "50000/50000 [==============================] - 17s 331us/step - loss: 0.1722 - acc: 0.9429\n",
            "Epoch 41/50\n",
            "50000/50000 [==============================] - 16s 328us/step - loss: 0.1794 - acc: 0.9383\n",
            "Epoch 42/50\n",
            "50000/50000 [==============================] - 16s 318us/step - loss: 0.1764 - acc: 0.9405\n",
            "Epoch 43/50\n",
            "50000/50000 [==============================] - 16s 323us/step - loss: 0.1741 - acc: 0.9412\n",
            "Epoch 44/50\n",
            "50000/50000 [==============================] - 16s 326us/step - loss: 0.1803 - acc: 0.9394\n",
            "Epoch 45/50\n",
            "50000/50000 [==============================] - 16s 324us/step - loss: 0.1705 - acc: 0.9420\n",
            "Epoch 46/50\n",
            "50000/50000 [==============================] - 16s 320us/step - loss: 0.1721 - acc: 0.9415\n",
            "Epoch 47/50\n",
            "50000/50000 [==============================] - 16s 318us/step - loss: 0.1703 - acc: 0.9417\n",
            "Epoch 48/50\n",
            "50000/50000 [==============================] - 16s 317us/step - loss: 0.1726 - acc: 0.9415\n",
            "Epoch 49/50\n",
            "50000/50000 [==============================] - 16s 318us/step - loss: 0.1728 - acc: 0.9417\n",
            "Epoch 50/50\n",
            "50000/50000 [==============================] - 16s 317us/step - loss: 0.1718 - acc: 0.9426\n"
          ],
          "name": "stdout"
        },
        {
          "output_type": "execute_result",
          "data": {
            "text/plain": [
              "<keras.callbacks.History at 0x7f78425a4e10>"
            ]
          },
          "metadata": {
            "tags": []
          },
          "execution_count": 64
        }
      ]
    },
    {
      "metadata": {
        "id": "I5KNdGmqFQ5v",
        "colab_type": "code",
        "colab": {
          "base_uri": "https://localhost:8080/",
          "height": 34
        },
        "outputId": "8b09c4c2-6c50-4f70-919a-2ff090d53ee2"
      },
      "cell_type": "code",
      "source": [
        "loss, acc = model.evaluate(x_test,y_test)"
      ],
      "execution_count": 65,
      "outputs": [
        {
          "output_type": "stream",
          "text": [
            "10000/10000 [==============================] - 2s 168us/step\n"
          ],
          "name": "stdout"
        }
      ]
    },
    {
      "metadata": {
        "id": "UrPctLC3FSkF",
        "colab_type": "code",
        "colab": {
          "base_uri": "https://localhost:8080/",
          "height": 34
        },
        "outputId": "51c69eff-b3bb-456d-898d-0292595bd020"
      },
      "cell_type": "code",
      "source": [
        "print(acc)"
      ],
      "execution_count": 66,
      "outputs": [
        {
          "output_type": "stream",
          "text": [
            "0.8126\n"
          ],
          "name": "stdout"
        }
      ]
    },
    {
      "metadata": {
        "id": "caBDe_p2FUHK",
        "colab_type": "code",
        "colab": {
          "base_uri": "https://localhost:8080/",
          "height": 34
        },
        "outputId": "e5fe4c0d-a672-4d56-d2ab-7a9145e602fa"
      },
      "cell_type": "code",
      "source": [
        "loss2, acc2 = model.evaluate(x_train,y_train)"
      ],
      "execution_count": 67,
      "outputs": [
        {
          "output_type": "stream",
          "text": [
            "50000/50000 [==============================] - 10s 191us/step\n"
          ],
          "name": "stdout"
        }
      ]
    },
    {
      "metadata": {
        "id": "LNavzFHcFWUa",
        "colab_type": "code",
        "colab": {
          "base_uri": "https://localhost:8080/",
          "height": 34
        },
        "outputId": "b3a986bd-c38e-4468-c5c3-9ae5619c5861"
      },
      "cell_type": "code",
      "source": [
        "print(acc2)"
      ],
      "execution_count": 68,
      "outputs": [
        {
          "output_type": "stream",
          "text": [
            "0.99668\n"
          ],
          "name": "stdout"
        }
      ]
    }
  ]
}